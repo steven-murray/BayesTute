{
 "cells": [
  {
   "cell_type": "markdown",
   "metadata": {
    "nbpresent": {
     "id": "f2ffbee5-caff-46ce-83ed-a12d214663be"
    },
    "slideshow": {
     "slide_type": "slide"
    }
   },
   "source": [
    "# Bayesian Statistics and MCMC...\n",
    "\n",
    "A *very* brief intro to Bayesian Statistics for people who just want to use it to solve the Universe. Or those who think (correctly) that it's the cool kid in town.\n",
    "\n",
    "*NOTE:* This presentation makes pretty heavy use of the awesome Jupyter notebook/actual book [Probabilistic Programming and Bayesian Methods for Hackers](https://github.com/CamDavidsonPilon/Probabilistic-Programming-and-Bayesian-Methods-for-Hackers). "
   ]
  },
  {
   "cell_type": "markdown",
   "metadata": {
    "nbpresent": {
     "id": "8ab31b00-ce7e-459c-87fe-4b675e01de56"
    },
    "slideshow": {
     "slide_type": "-"
    }
   },
   "source": [
    "<img height=400 width=600 src=bayesian-brain1.png>"
   ]
  },
  {
   "cell_type": "markdown",
   "metadata": {
    "slideshow": {
     "slide_type": "slide"
    }
   },
   "source": [
    "## The Philosophy of Bayesian Inference\n",
    "\n",
    "Bayesian Inference is:\n",
    "\n",
    "* A way of assigning degree of *belief* to certain statements.\n",
    "* Rarely are statements *certain*, they always have some degree of belief.\n",
    "* Belief is *updated* by new evidence, in a rigorous way.\n",
    "* Alternative to \"traditional\" *frequentist* view, which typically gives exact result.\n",
    "\n",
    "Both frequentist and Bayesian viewpoints are useful, and *usually* give the same answer when the amount of data is very very large. Bayesian more natural if:\n",
    "\n",
    "* Amount of data is small (which it *always* is).\n",
    "* Probabilities of outcomes are required.\n",
    "* Belief is being updated over time as evidence accumulates."
   ]
  },
  {
   "cell_type": "markdown",
   "metadata": {
    "slideshow": {
     "slide_type": "subslide"
    }
   },
   "source": [
    "### Why Bayesian?"
   ]
  },
  {
   "cell_type": "markdown",
   "metadata": {
    "slideshow": {
     "slide_type": "notes"
    }
   },
   "source": [
    "It is arguable that humans *tend* to think as Bayesians, and resort to standard frequentist approaches only out of training. While frequentists tend to ask what the data *should* be given an infinite number of trials, a Bayesian tends to ask how true a given statement is *given* the actual present data. Therefore it has these properties which make it quite natural, especially in astronomical research:"
   ]
  },
  {
   "cell_type": "markdown",
   "metadata": {
    "slideshow": {
     "slide_type": "-"
    }
   },
   "source": [
    "* It gears towards the probability of a statement (read \"model\") given the existence of a set of data (can't keep repeating trial runs of the Universe).\n",
    "* It entirely naturally takes into account -- in a formalised way -- our *prior* knowledge/belief about a given model. \n",
    "* It assumes that we can never be certain about a statement, but we *can* specify how high our belief is in it, and continually update that belief as new evidence arrives."
   ]
  },
  {
   "cell_type": "markdown",
   "metadata": {
    "slideshow": {
     "slide_type": "subslide"
    }
   },
   "source": [
    "### Priors"
   ]
  },
  {
   "cell_type": "markdown",
   "metadata": {},
   "source": [
    "**Imagine the toss of a coin. Someone tosses the coin 5 times, revealing 5 heads. What happens next?**\n",
    "\n",
    "<img src=poincare.jpg>"
   ]
  },
  {
   "cell_type": "markdown",
   "metadata": {
    "slideshow": {
     "slide_type": "notes"
    }
   },
   "source": [
    "The second point is both crucial and interesting. Imagine the toss of a coin, as did Henri Poincare in his \"Science and Hypothesis\". Someone tosses the coin 5 times, revealing 5 heads. They then bet us some amount that in the next, say, 500 tosses, the number of heads will be twice the number of tails. A naive frequentist approach will tell us to take the bet, because over a large number of throws, the odds will even out to 50-50. However, this has automatically neglected our gut instinct, which is that since we don't know this person, we have no real way of determining how much we trust them, and whether they have brought a fair coin. Even upon noticing this flaw, all a frequentist can do is then presume that if there is some probability $p$ that the coin is fair, then the total fraction of heads will be $x$. A Bayesian, however, will ask: given the 5 throws I now know about, *and the fact that I don't know anything about the fairness of the coin*, what is the probability that the next 500 tosses will yield a given fraction of heads? In the process, the degree of belief about the fairness of the coin is consistently updated also. In addition, after each additional toss, you will be able to consistently update your belief in the final result. \n",
    "\n",
    "If instead you were playing with a trusted friend, you would naturally be far less disposed to believe that the coin is unfair. So what that it turned up heads 5 times in a row? These things can happen. This suggests that the result you get will be *subjective*. This is not a bad thing -- it is entirely natural. Bayesian statistics just gives us a way to formally deal with that subjectivity."
   ]
  },
  {
   "cell_type": "markdown",
   "metadata": {
    "slideshow": {
     "slide_type": "fragment"
    }
   },
   "source": [
    "**Your instincts suggest, and Bayes confirms, that your estimation of your \"friend\" is an important factor to consider**\n",
    "\n",
    "\n",
    "**This is a prior.**"
   ]
  },
  {
   "cell_type": "markdown",
   "metadata": {
    "slideshow": {
     "slide_type": "slide"
    }
   },
   "source": [
    "## The Bayesian Framework\n",
    "\n"
   ]
  },
  {
   "cell_type": "markdown",
   "metadata": {
    "slideshow": {
     "slide_type": "fragment"
    }
   },
   "source": [
    "**Given a model $A$, how do we *update* our belief in $A$, given some data $D$?**"
   ]
  },
  {
   "cell_type": "markdown",
   "metadata": {
    "slideshow": {
     "slide_type": "fragment"
    }
   },
   "source": [
    "**Bayes' Theorem:**\n",
    "\n",
    "$$ P(A|D) = \\frac{P(D|A)P(A)}{P(D)}.$$"
   ]
  },
  {
   "cell_type": "markdown",
   "metadata": {
    "slideshow": {
     "slide_type": "notes"
    }
   },
   "source": [
    "The Bayesian framework really comes down to a simple formula, known as Bayes' Theorem, which allows us to update probabilities (or degrees of belief). \n",
    "\n",
    "Let a statement about the Universe, or in other words, a particular model, be denoted $A$. We have some initial degree of belief of $A$: $P(A)$. Perhaps the model is that FRB's are alien signals. Then $P(A)$ might be very small. This is *somewhat* subjective, and depends on your own prior knowledge/dispositions. The more detail you can put in here the better, but usually it's impossible to nail down a precise or objective value for this. \n",
    "\n",
    "Now, let's say we have some data, $D$. These are things we've really measured. They could contain measurement uncertainties, but they're real actual instances of things that have happened. Then what we want, is the probability of our model $A$, given that we've observed $D$. And Bayes' formula gives us that."
   ]
  },
  {
   "cell_type": "markdown",
   "metadata": {
    "slideshow": {
     "slide_type": "fragment"
    }
   },
   "source": [
    "* $P(A)$ is the *prior*.\n",
    "* $P(A|D)$ is the *posterior*.\n",
    "* $P(D|A)$ is the *likelihood*.\n",
    "* $P(D)$ is the *marginal likelihood*."
   ]
  },
  {
   "cell_type": "markdown",
   "metadata": {
    "slideshow": {
     "slide_type": "notes"
    }
   },
   "source": [
    "The $P(A)$ we call the *prior*, because it encodes our prior belief of the model. The LHS we call the *posterior* because it encodes our belief of the model after the evidence. The $P(D|A)$ is the probability that the given data could be generated under model $A$, and $P(D)$ is probability of the data existing at all. \n",
    "\n",
    "This last bit is often stupidly hard to write down, which makes actually solving this equation often completely intractible. However, we can get away with this. Notice that what we want is the probability of $A$. But the denominator doesn't depend on $A$. We know the probability over all $A$ *must* be one, so we know that $P(X)$ must be equal to the integral over $A$ of $P(X|A)P(A)$. In effect, this is exactly what MCMC is -- a clever way to perform this integration. But we'll come to that soon."
   ]
  },
  {
   "cell_type": "markdown",
   "metadata": {
    "slideshow": {
     "slide_type": "subslide"
    }
   },
   "source": [
    "### Example 1: Coin Toss (from book)\n",
    "\n",
    "$$ P(A|D) = \\frac{P(D|A)P(A)}{P(D)}.$$\n",
    "\n"
   ]
  },
  {
   "cell_type": "markdown",
   "metadata": {
    "slideshow": {
     "slide_type": "fragment"
    }
   },
   "source": [
    "$$ P(A) \\sim {\\rm Uniform}(0,1). $$"
   ]
  },
  {
   "cell_type": "markdown",
   "metadata": {
    "slideshow": {
     "slide_type": "notes"
    }
   },
   "source": [
    "Imagine a series of coin tosses, where the coin *is* fair, but we don't know that. We want to assess the statement (or model) that the coin has probability $p$ to land on heads. Now, the initial probability, before any coin tosses, of the model, is a uniform distribution between 0 and 1. Likewise, the probability of the data, given a model $p$, is  "
   ]
  },
  {
   "cell_type": "markdown",
   "metadata": {
    "slideshow": {
     "slide_type": "fragment"
    }
   },
   "source": [
    "$$ P(D|A) = p^{N_h}(1-p)^{N_t}. $$"
   ]
  },
  {
   "cell_type": "markdown",
   "metadata": {
    "slideshow": {
     "slide_type": "notes"
    }
   },
   "source": [
    "Finally the probability of getting any realisation of data is the total number of possible combinations:"
   ]
  },
  {
   "cell_type": "markdown",
   "metadata": {
    "slideshow": {
     "slide_type": "fragment"
    }
   },
   "source": [
    "$$P(D) = 2^{N_h+N_t}.$$"
   ]
  },
  {
   "cell_type": "markdown",
   "metadata": {
    "slideshow": {
     "slide_type": "notes"
    }
   },
   "source": [
    "We can simulate such a process, and show the PDF of the LHS after some number of tosses (these plots will look different for every simulation, depending on the actual outcomes):"
   ]
  },
  {
   "cell_type": "markdown",
   "metadata": {
    "slideshow": {
     "slide_type": "subslide"
    }
   },
   "source": [
    "<img width=500 height=1000 src=\"coin_toss.png\">"
   ]
  },
  {
   "cell_type": "markdown",
   "metadata": {
    "slideshow": {
     "slide_type": "subslide"
    }
   },
   "source": [
    "### Example 2: Simplest Gaussian\n",
    "\n",
    "$$P(A=\\mu) = {\\rm constant}.$$\n",
    "\n",
    "$$P(D|A=\\mu) = \\frac{1}{\\sqrt{2\\pi}\\sigma^2} \\exp(-\\frac{(\\vec{x} - \\mu)^2}{2\\sigma^2}). $$\n",
    "\n",
    "$$P(D) = \\int d\\mu P(D|A=\\mu) = 1.$$"
   ]
  },
  {
   "cell_type": "markdown",
   "metadata": {
    "slideshow": {
     "slide_type": "fragment"
    }
   },
   "source": [
    "So... \n",
    "\n",
    "$$P(\\mu|D) = P(D|\\mu)$$"
   ]
  },
  {
   "cell_type": "markdown",
   "metadata": {
    "slideshow": {
     "slide_type": "notes"
    }
   },
   "source": [
    "Let's say we have a collection of observations that have no uncertainty in their measurement, perhaps heights of people in this room. Say that we have reason to believe that heights are drawn from a normal distribution (*we'd necessarily be wrong*) and also that we know the width of the distribution with certainty, but not the mean. In fact, we know *nothing* about the mean (also a completely rubbish assumption for this example). Then $P(A)$ is a constant, and doesn't change the shape of the posterior. $P(D|A)$ is necessarily a multivariate Gaussian distribution -- each height is independent, and has a probability drawn from a normal distribution. In this case, $P(D)$ must be unity, because a multivariate Normal is already normalised. Thus the *posterior* distribution is simply the MVN, with mean the mean of observations.\n",
    "\n",
    "This unfortunately has an *improper* prior -- the prior itself integrates to infinity."
   ]
  },
  {
   "cell_type": "markdown",
   "metadata": {
    "slideshow": {
     "slide_type": "subslide"
    }
   },
   "source": [
    "### Example 3: Unknown Spread."
   ]
  },
  {
   "cell_type": "markdown",
   "metadata": {
    "slideshow": {
     "slide_type": "fragment"
    }
   },
   "source": [
    "$$P(\\mu,\\sigma) = \\begin{cases} \\exp\\left(-\\frac{(\\mu-\\mu_\\mu)^2}{2\\sigma_\\mu^2}\\right) & \\sigma \\in (a,b) \\\\\n",
    "0 & {\\rm otherwise} \\end{cases}. $$"
   ]
  },
  {
   "cell_type": "markdown",
   "metadata": {
    "slideshow": {
     "slide_type": "fragment"
    }
   },
   "source": [
    "$$ P(D) = \\int d\\mu \\int d\\sigma \\prod_i \\frac{e^{-(h_i - \\mu)^2/2\\sigma^2}}{\\sqrt{2\\pi\\sigma^2}} P(\\mu,\\sigma).$$"
   ]
  },
  {
   "cell_type": "markdown",
   "metadata": {
    "slideshow": {
     "slide_type": "fragment"
    }
   },
   "source": [
    "**Not analytically tractable! Where to from here?**"
   ]
  },
  {
   "cell_type": "markdown",
   "metadata": {
    "slideshow": {
     "slide_type": "notes"
    }
   },
   "source": [
    "Now consider the same example, but in which we know neither the mean or standard deviation. Furthermore, let's state that our prior on the mean is a normal distribution with mean $\\mu_\\mu$ and std. dev. $\\sigma_\\mu$, and a uniform distribution on $\\sigma$. It's possible that we don't even know these parameters, but let's assume we do.\n",
    "\n",
    "The numerator is then the integral of this whole mess over both $\\mu$ and $\\sigma$. This is not even analytically tractable. So where to from here?\n"
   ]
  },
  {
   "cell_type": "markdown",
   "metadata": {
    "slideshow": {
     "slide_type": "slide"
    }
   },
   "source": [
    "## MCMC\n",
    "\n",
    "**Why not other possibilities?**\n",
    "* Pure integration only works for low number of parameters, simple likelihood.\n",
    "* Integration still doesn't give quantities of interest -- mean, median, mode, variance etc.\n",
    "* Could just maximise $\\mathcal{L}$ (reasonably quick), but only gives one point estimate."
   ]
  },
  {
   "cell_type": "markdown",
   "metadata": {
    "slideshow": {
     "slide_type": "notes"
    }
   },
   "source": [
    "For a reasonably simple problem like the previous Gaussian, we might be tempted to just do the integral numerically, using say Simpson's rule. This would work fine, as long as the likelihood function is reasonably well behaved. However, even with this (numerical) solution, it would be difficult to determine actual quantities of interest -- say the mean, median, mode, variance etc. of the distribution. All you can get is the probability at any point individually, by doing a 2D integral. \n",
    "\n",
    "If the number of parameters increases, the curse of dimensionality kicks in -- with $N$ parameters, and a grid of $N_g$ steps in each dimension, the integral requires $N_g^N$ evaluations of the likelihood. This very quickly gets out of hand, especially for expensive likelihoods. "
   ]
  },
  {
   "cell_type": "markdown",
   "metadata": {
    "slideshow": {
     "slide_type": "notes"
    }
   },
   "source": [
    "Alternatively, if we *only* care about the mode of the distribution -- often a pretty good estimate of the centre, but not always -- then we could just maximise $\\mathcal{L}$ -- i.e. modify the parameters $\\mu$ and $\\sigma$ under some optimization scheme, until $\\mathcal{L}$ hits its maximum value, then read off the parameter values. This is called the Maximum Likelihood method. It is reasonably fast, but only gets you one kind of point of the distribution, which may or may not be useful."
   ]
  },
  {
   "cell_type": "code",
   "execution_count": null,
   "metadata": {
    "slideshow": {
     "slide_type": "notes"
    }
   },
   "outputs": [],
   "source": [
    "%matplotlib inline\n",
    "import matplotlib.pyplot as plt\n",
    "import numpy as np"
   ]
  },
  {
   "cell_type": "code",
   "execution_count": 53,
   "metadata": {
    "ExecuteTime": {
     "end_time": "2018-03-12T01:18:18.324645Z",
     "start_time": "2018-03-12T01:18:18.135135Z"
    }
   },
   "outputs": [
    {
     "data": {
      "image/png": "[encoded data removed]",
      "text/plain": [
       "<Figure size 432x288 with 1 Axes>"
      ]
     },
     "metadata": {},
     "output_type": "display_data"
    }
   ],
   "source": [
    "x = np.linspace(0.01,30,1000)\n",
    "plt.plot(x, np.exp(-(np.log(x) - 0.0)**2/(2*2.0**2)))\n",
    "plt.axvline(np.exp(0 + 2**2/2.), color='k')\n",
    "plt.title(\"Mean vs. Mode in Lognormal Distribution\");"
   ]
  },
  {
   "cell_type": "markdown",
   "metadata": {
    "slideshow": {
     "slide_type": "subslide"
    }
   },
   "source": [
    "### Why MCMC?\n",
    "\n",
    "#### MCMC is a smart integrator\n",
    "\n",
    "* Scales ~$N$ rather than ~$x^N$. \n",
    "* *Samples* the space.\n",
    "* Samples provide *very easy* way of getting posterior estimates (mean, median, variance etc.)\n",
    "* Represents entire multi-variate dist. of posterior."
   ]
  },
  {
   "cell_type": "markdown",
   "metadata": {
    "slideshow": {
     "slide_type": "notes"
    }
   },
   "source": [
    "**MCMC Continued...**\n",
    "\n",
    "MCMC is just a smart way of performing the integration. It works by creating a formally correct *sampling* of the posterior. In this way, the need for normalisation is entirely circumvented. The mean, median, mode etc. are available for free by just computing them on the sample. In short, it can be sliced and diced any way we wish -- it represents the entire multi-variate distribution of the posterior.\n",
    "\n",
    "**How it works.** \n",
    "\n",
    "An MCMC basically \"tests out\" different combinations of parameters -- just like maximum likelihood -- but instead of just bolting for the maximum, it remembers a single combination (a \"step\") with a probability given by its relative probability to the previous step. For example, imagine for the first combination, the posterior probability is 0.1. For the second step (which it chooses randomly*), the probability is 0.2. Then we will definitely remember this step. If the probability was 0.05, then we would remember it with probability of 0.05/0.1 = 0.5. \n",
    "\n",
    "Thus we always accept higher-probability steps, and sometimes accept lower ones. This has been proven to result in a sample which follows the posterior distribution (if left for an infinite amount of time).*"
   ]
  },
  {
   "cell_type": "markdown",
   "metadata": {
    "slideshow": {
     "slide_type": "subslide"
    }
   },
   "source": [
    "### How MCMC Works\n",
    "\n",
    "**Proto-typical algorithm (metropolis-hastings):**\n",
    "\n",
    "1. Choose set of parameters $\\theta_0$\n",
    "2. Evaluate $P(\\theta_0|D)$\n",
    "3. Choose $\\theta_1$ (and evaluate $P(\\theta_1|D)$).\n",
    "4. If $P(\\theta_1|D)>P(\\theta_0|D)$, keep $\\theta_1$ and set $\\theta_0=\\theta_1$ (repeat)\n",
    "5. Else If $P(\\theta_1|D)<P(\\theta_0|D)$, keep with probability $P(\\theta_1|D)/P(\\theta_0|D)$, otherwise discard and try again.\n"
   ]
  },
  {
   "cell_type": "markdown",
   "metadata": {
    "slideshow": {
     "slide_type": "subslide"
    }
   },
   "source": [
    "#### Properties of MCMC\n",
    "\n",
    "**Irrelevance of the tricky term:**\n",
    "\n",
    "$$ \\frac{P(D|A_1) P(A_1)}{P(D)} / \\frac{P(D|A_2)P(A_2)}{P(D)} \\equiv \\frac{P(D|A_1) P(A_1)}{P(D|A_2) P(A_2)}. $$"
   ]
  },
  {
   "cell_type": "markdown",
   "metadata": {
    "slideshow": {
     "slide_type": "fragment"
    }
   },
   "source": [
    "**Memoryless**\n",
    "\n",
    "Algorithm only cares about current and next steps, does not \"remember\" previous steps (Markov Chain)."
   ]
  },
  {
   "cell_type": "markdown",
   "metadata": {
    "slideshow": {
     "slide_type": "fragment"
    }
   },
   "source": [
    "**Choice of Step**\n",
    "* Some conditions (i.e. symmetry)\n",
    "* *Lots* of methods out there. \n",
    "* The primary way of making \"better\" or \"worse\" MCMC routines.\n",
    "* Performance is problem-specific.\n",
    "* Eg. ``emcee``, ``Stan`` and ``PyMC3`` offer different step methods.\n",
    "* **WRITE YOUR OWN!!**"
   ]
  },
  {
   "cell_type": "markdown",
   "metadata": {
    "slideshow": {
     "slide_type": "slide"
    }
   },
   "source": [
    "## *Doing* MCMC\n",
    "\n",
    "* Never use your own step method, better ones exist.\n",
    "* Two general ways of doing the \"mechanics\":\n",
    "    1. Black-box\n",
    "    2. Probabilistic Programming.\n",
    "    \n",
    "**General Workflow:**\n",
    "1. Specify model (i.e. $\\ln P(D|A)$)\n",
    "2. Specify (log) priors \n",
    "3. Specify starting values.\n",
    "4. Specify number of iterations you want to sample.\n",
    "5. Pass all these to the MCMC machine.\n",
    "6. Assess whether returned chains are converged.\n",
    "7. Make some plots and summary statistics.\n",
    "\n",
    "Steps 1 and 2 are dependent on what kind of code you're using ('black box' or 'probabilistic programming')."
   ]
  },
  {
   "cell_type": "markdown",
   "metadata": {
    "slideshow": {
     "slide_type": "notes"
    }
   },
   "source": [
    "Now, never use your own MCMC step method in the real world. Use something like ``PyMC3`` or ``emcee`` or ``Stan``. Of course, the actual mechanics of how to do things in each of these is slightly different. But in each case, similar things will be needed, at a conceptual level. \n",
    "\n",
    "You'll always need to specify the likelihood, $\\mathcal{L}$. In fact, usually, you'll just need the log-likelihood, which is usually easier to calculate. Internally, the MCMC step method will find $\\mathcal{L}_1/\\mathcal{L}_2$ as $e^{\\ln\\mathcal{L}_1 - \\ln \\mathcal{L}_2}$, which is more numerically stable. So usually, you'll have some kind of code like this:"
   ]
  },
  {
   "cell_type": "markdown",
   "metadata": {
    "slideshow": {
     "slide_type": "subslide"
    }
   },
   "source": [
    "### Example: Black-box\n",
    "\n",
    "In this kind of code, all you need to define is a single function which takes data and parameters, and spits out the log of the posterior. Everything inside the function is up to you. ``emcee`` is an example. \n",
    "\n",
    "A general setup may look like this:"
   ]
  },
  {
   "cell_type": "code",
   "execution_count": null,
   "metadata": {
    "slideshow": {
     "slide_type": "fragment"
    }
   },
   "outputs": [],
   "source": [
    "def log_prob_data_given_model(model_parameters, data):\n",
    "    ...\n",
    "    return log_prob\n",
    "\n",
    "def log_prior(model_parameters):\n",
    "    return log(norm(model_parameters))\n",
    "\n",
    "def lnL(model_parameters, data):\n",
    "    return log_prob_data_given_model(model_parameters, data) + log_prior(model_parameters)\n",
    "\n",
    "big_chain = call_mcmc(initial_param_values,\n",
    "                      data,\n",
    "                      lnl_function = lnL,\n",
    "                      n_iterations)\n",
    "\n",
    "ensure_converged(big_chain)\n",
    "\n",
    "print(summary(big_chain))\n",
    "\n",
    "plot(big_chain)"
   ]
  },
  {
   "cell_type": "markdown",
   "metadata": {
    "slideshow": {
     "slide_type": "notes"
    }
   },
   "source": [
    "The ``big_chain`` will consist of an array of values, where each parameter has an individual \"trace\" which is ``n_iterations`` long. You can take the mean of these values, or plot their histogram, or do whatever you want. The whole distribution, with all its covariance, is locked away in this chain."
   ]
  },
  {
   "cell_type": "markdown",
   "metadata": {
    "slideshow": {
     "slide_type": "slide"
    }
   },
   "source": [
    "## Practical Concerns"
   ]
  },
  {
   "cell_type": "markdown",
   "metadata": {},
   "source": [
    "### Constructing a Likelihood\n",
    "\n",
    "* The guts of doing Bayesian stats.\n",
    "* How to construct the ``log_prob_data_given_model()`` function?"
   ]
  },
  {
   "cell_type": "markdown",
   "metadata": {
    "slideshow": {
     "slide_type": "notes"
    }
   },
   "source": [
    "Given that you know how to use whatever machine you want to perform the MCMC, the biggest hurdle is constructing the likelihood function. The choice of prior *can* be tricky, but *usually* it will be a bounded uniform distribution, or a normal distribution. The really hard part is constructing the ``log_prob_data_given_model`` part. How to think about this?"
   ]
  },
  {
   "cell_type": "markdown",
   "metadata": {
    "slideshow": {
     "slide_type": "fragment"
    }
   },
   "source": [
    "**Consider a *generative model***\n",
    "\n",
    "* How would you generate the data itself?\n",
    "* Track each step of the stochastic process, specify each assumption."
   ]
  },
  {
   "cell_type": "markdown",
   "metadata": {
    "slideshow": {
     "slide_type": "subslide"
    }
   },
   "source": [
    "#### Example: Dark Matter Haloes (I)\n",
    "\n",
    "\\begin{align}\n",
    "m &\\sim {\\rm Gamma}(\\alpha, \\beta) \\\\\n",
    "m_{\\rm obs} &\\sim {\\rm LogNorm}(\\mu=m, \\sigma = A m^{-\\gamma}).\n",
    "\\end{align}\n",
    "\n",
    "***Not* fully specified!**"
   ]
  },
  {
   "cell_type": "markdown",
   "metadata": {
    "slideshow": {
     "slide_type": "notes"
    }
   },
   "source": [
    "Usually the best way to do this is to construct a *generative model*. Ask yourself how the data itself could have been generated (with code) from the ground up. We can build up quite complicated models in this way. For example, to generate data representing the masses of some dark matter haloes, we might suggest that intrinsically, the masses are drawn from a gamma distribution, for which we do not know the parameters. But each of the intrinsic masses are scattered upon observation, and thus are drawn from a log-normal distribution, whose width may depend on the intrinsic mass. You'd construct that data according to the following:\n",
    "\n",
    "\\begin{align}\n",
    "m &\\sim {\\rm Gamma}(\\alpha, \\beta) \\\\\n",
    "m_{\\rm obs} &\\sim {\\rm LogNorm}(\\mu=m, \\sigma = A m^{-\\gamma}).\n",
    "\\end{align}"
   ]
  },
  {
   "cell_type": "markdown",
   "metadata": {
    "slideshow": {
     "slide_type": "subslide"
    }
   },
   "source": [
    "#### Example: Dark Matter Haloes (II)\n",
    "\n",
    "**Gotta get our parameters from somewhere:**\n",
    "\n",
    "\\begin{align}\n",
    "\\alpha &\\sim {\\rm Uniform}(0,1) \\\\\n",
    "\\beta &\\sim {\\rm Uniform}(0,2) \\\\\n",
    "A &\\sim \\mathcal{N}(100,3) \\\\\n",
    "\\gamma &\\sim \\mathcal{N}(0,1)\\\\\n",
    "m &\\sim {\\rm Gamma}(\\alpha, \\beta) \\\\\n",
    "m_{\\rm obs} &\\sim {\\rm LogNorm}(\\mu=m, \\sigma = A m^{-\\gamma}).\n",
    "\\end{align}"
   ]
  },
  {
   "cell_type": "markdown",
   "metadata": {
    "slideshow": {
     "slide_type": "notes"
    }
   },
   "source": [
    "This does not, actually, absolutely define the data. Each of $\\alpha,\\beta,A$ and $\\gamma$ need to be specified somehow. To generate the data, we could literally just specify each of these as a constant. But then the model would be completely determined, and we would know everything! Otherwise, we could draw each of these from some distribution.\n",
    "\n",
    "This is now fully self-contained. The first four lines define the *priors* on our parameters, and the last two define the data model. "
   ]
  },
  {
   "cell_type": "markdown",
   "metadata": {
    "slideshow": {
     "slide_type": "subslide"
    }
   },
   "source": [
    "#### Example: Dark Matter Haloes (III: Going too far)\n",
    "\n",
    "**Nothing stops us from drawing parameters from distributions with parameters from distributions from ...**\n",
    "\n",
    "\\begin{align}\n",
    "a &\\sim {\\rm Uniform}(0,1) \\\\\n",
    "\\alpha &\\sim {\\rm Uniform}(0,a) \\\\\n",
    "\\beta &\\sim {\\rm Uniform}(0,2) \\\\\n",
    "A &\\sim \\mathcal{N}(100,3) \\\\\n",
    "\\gamma &\\sim \\mathcal{N}(0,1)\\\\\n",
    "m &\\sim {\\rm Gamma}(\\alpha, \\beta) \\\\\n",
    "m_{\\rm obs} &\\sim {\\rm LogNorm}(\\mu=m, \\sigma = A m^{-\\gamma}).\n",
    "\\end{align}\n",
    "\n",
    "**At some point, it makes no difference, so just stop.**"
   ]
  },
  {
   "cell_type": "markdown",
   "metadata": {
    "slideshow": {
     "slide_type": "notes"
    }
   },
   "source": [
    "Then $\\alpha$  is derived from $a$. Here $a$ is called a *hyper-parameter* -- it is the parent of another parameter. In fact, you can see that $\\alpha$ and $\\beta$ are hyper-parameters of the parameter $m$. It doesn't really matter so long as the whole thing produces something that resembles the data you actually have. "
   ]
  },
  {
   "cell_type": "markdown",
   "metadata": {
    "slideshow": {
     "slide_type": "subslide"
    }
   },
   "source": [
    "#### Example: Dark Matter Haloes with \"black box\"\n",
    "\n",
    "The generative model can be directly turned into the function we require (in python speak):"
   ]
  },
  {
   "cell_type": "code",
   "execution_count": 35,
   "metadata": {
    "ExecuteTime": {
     "end_time": "2018-03-09T05:40:00.781419Z",
     "start_time": "2018-03-09T05:40:00.772339Z"
    },
    "slideshow": {
     "slide_type": "fragment"
    }
   },
   "outputs": [],
   "source": [
    "from scipy.stats import norm, gamma, uniform, lognorm\n",
    "\n",
    "def lnL(model_parameters, data):\n",
    "    alpha,beta,A,gamma, m_intrinsic = model_parameters\n",
    "    \n",
    "    lnL = 0\n",
    "    \n",
    "    lnL += np.log(uniform(0,1).pdf(alpha))\n",
    "    lnL += np.log(uniform(0,2).pdf(beta))\n",
    "    lnL += np.log(norm(100,3).pdf(A))\n",
    "    lnL += np.log(norm(0,1).pdf(gamma))\n",
    "\n",
    "    lnL += np.sum(np.log(gamma(alpha,beta).pdf(m_intrinsic)))\n",
    "    lnL += np.sum(np.log(lognorm(m_intrinsic, A*m_intrinsic**-gamma)))\n",
    "    \n",
    "    return lnL"
   ]
  },
  {
   "cell_type": "markdown",
   "metadata": {
    "slideshow": {
     "slide_type": "notes"
    }
   },
   "source": [
    "Smart MCMC libraries/languages will actually be able to take the model you give it, and either fit with it, *or* produce samples with it. It can run both ways. This can be a good indication as to whether you're getting your model correct. "
   ]
  },
  {
   "cell_type": "markdown",
   "metadata": {
    "slideshow": {
     "slide_type": "subslide"
    }
   },
   "source": [
    "#### Example: Dark Matter Haloes with Probabilistic Programminc (``PyMC3``)\n"
   ]
  },
  {
   "cell_type": "markdown",
   "metadata": {
    "slideshow": {
     "slide_type": "notes"
    }
   },
   "source": [
    "Most people in astronomy seem to use ``emcee`` (me included). The good thing about it is that something like our function above just works with ``emcee`` -- all it needs is a function that returns some value which is the log-likelihood. And it has a pretty good step method. \n",
    "\n",
    "But other languages exist which are more intuitive if you come at it from a statistical viewpoint, and give you more built-in options to assess how good your fits are etc. One of these is PyMC. I won't go into detail about how to use it, but as an example, in PyMC you'd construct the previous model like this:"
   ]
  },
  {
   "cell_type": "code",
   "execution_count": null,
   "metadata": {
    "slideshow": {
     "slide_type": "fragment"
    }
   },
   "outputs": [],
   "source": [
    "import pymc3 as pm\n",
    "\n",
    "data = <read_in_observed_masses>\n",
    "with pm.Model() as model:\n",
    "    # Simple parameters\n",
    "    alpha = pm.Uniform(\"alpha\", lower=0, upper=1)\n",
    "    beta = pm.Uniform(\"beta\", lower=-1, upper=1)\n",
    "    A = pm.Normal(\"A\", mean=100, sd=3.)\n",
    "    gamma = pm.Normal(\"beta\", mean=0, sd=1)\n",
    "    \n",
    "    # The intrinsic masses (really just a bunch of parameters)\n",
    "    m_intrinsic = pm.Gamma(\"m_intrinsic\", alpha=alpha, beta=beta, shape=len(data))\n",
    "    \n",
    "    # The observed masses (set to being observed as data)\n",
    "    m_observed = pm.Normal(\"m_observed\", mu = np.log(m_intrinsic), sd = 3., observed=data)"
   ]
  },
  {
   "cell_type": "markdown",
   "metadata": {
    "slideshow": {
     "slide_type": "notes"
    }
   },
   "source": [
    "That's it. Then you use ``PyMC3`` to run the model for some number of iterations and plot the results. "
   ]
  },
  {
   "cell_type": "markdown",
   "metadata": {
    "slideshow": {
     "slide_type": "subslide"
    }
   },
   "source": [
    "#### Full Example: Heights with ``PyMC3``"
   ]
  },
  {
   "cell_type": "markdown",
   "metadata": {
    "slideshow": {
     "slide_type": "notes"
    }
   },
   "source": [
    "Let's revisit the people's height example. We can write a generate data function, and create the model quite easily:"
   ]
  },
  {
   "cell_type": "code",
   "execution_count": 1,
   "metadata": {
    "ExecuteTime": {
     "end_time": "2018-03-12T04:53:43.346986Z",
     "start_time": "2018-03-12T04:53:13.067797Z"
    },
    "slideshow": {
     "slide_type": "fragment"
    }
   },
   "outputs": [
    {
     "name": "stderr",
     "output_type": "stream",
     "text": [
      "Multiprocess sampling (4 chains in 4 jobs)\n",
      "CompoundStep\n",
      ">Metropolis: [sd_interval__]\n",
      ">Metropolis: [mean]\n",
      "100%|██████████| 20500/20500 [00:04<00:00, 4141.63it/s]\n",
      "INFO (theano.gof.compilelock): Waiting for existing lock by process '15792' (I am process '15793')\n",
      "INFO (theano.gof.compilelock): To manually release the lock, delete /home/steven/.theano/compiledir_Linux-4.15--ARCH-x86_64-with-arch--3.6.4-64/lock_dir\n",
      "INFO (theano.gof.compilelock): Waiting for existing lock by process '15792' (I am process '15794')\n",
      "INFO (theano.gof.compilelock): To manually release the lock, delete /home/steven/.theano/compiledir_Linux-4.15--ARCH-x86_64-with-arch--3.6.4-64/lock_dir\n",
      "INFO (theano.gof.compilelock): Waiting for existing lock by process '15793' (I am process '15794')\n",
      "INFO (theano.gof.compilelock): To manually release the lock, delete /home/steven/.theano/compiledir_Linux-4.15--ARCH-x86_64-with-arch--3.6.4-64/lock_dir\n",
      "The number of effective samples is smaller than 25% for some parameters.\n"
     ]
    }
   ],
   "source": [
    "import pymc3 as pm\n",
    "import numpy as np\n",
    "\n",
    "def generate_data(N):\n",
    "    mean = 1.7\n",
    "    sd = 0.2\n",
    "    return np.random.normal(loc=mean, scale=sd, size=N)\n",
    "\n",
    "data = generate_data(150)\n",
    "\n",
    "with pm.Model() as model:\n",
    "    mean = pm.Normal(\"mean\", mu = 1.4, sd = 0.5, testval=1.3)\n",
    "    sd = pm.Uniform(\"sd\", lower=0.05, upper=0.3, testval = 0.06)\n",
    "        \n",
    "    heights = pm.Normal(\"heights\", mu=mean, sd=sd, observed=data)\n",
    "    \n",
    "    step = pm.Metropolis()\n",
    "    chains = pm.sample(20000, step=step, njobs=4)"
   ]
  },
  {
   "cell_type": "markdown",
   "metadata": {
    "slideshow": {
     "slide_type": "subslide"
    }
   },
   "source": [
    "### Diagnosing Convergence"
   ]
  },
  {
   "cell_type": "markdown",
   "metadata": {
    "slideshow": {
     "slide_type": "fragment"
    }
   },
   "source": [
    "#### Burn-in\n",
    "* Chains may not start \"in\" the posterior, and take time to truly get inside it.\n",
    "* This period known as burn-in.\n",
    "\n",
    "Can heuristically identify:"
   ]
  },
  {
   "cell_type": "code",
   "execution_count": 2,
   "metadata": {
    "ExecuteTime": {
     "end_time": "2018-03-12T04:53:44.022910Z",
     "start_time": "2018-03-12T04:53:43.390788Z"
    },
    "slideshow": {
     "slide_type": "fragment"
    }
   },
   "outputs": [
    {
     "data": {
      "image/png": "[encoded data removed]",
      "text/plain": [
       "<Figure size 864x288 with 4 Axes>"
      ]
     },
     "metadata": {},
     "output_type": "display_data"
    }
   ],
   "source": [
    "pm.traceplot(chains[:5000]);"
   ]
  },
  {
   "cell_type": "markdown",
   "metadata": {
    "slideshow": {
     "slide_type": "subslide"
    }
   },
   "source": [
    "**Rule-of-thumb is cut out first half.**"
   ]
  },
  {
   "cell_type": "code",
   "execution_count": 3,
   "metadata": {
    "ExecuteTime": {
     "end_time": "2018-03-12T04:54:07.612367Z",
     "start_time": "2018-03-12T04:54:07.363696Z"
    },
    "slideshow": {
     "slide_type": "fragment"
    }
   },
   "outputs": [],
   "source": [
    "# Get rid of first half of samples to \"burn in\"\n",
    "chains = chains[10000:]"
   ]
  },
  {
   "cell_type": "markdown",
   "metadata": {
    "slideshow": {
     "slide_type": "subslide"
    }
   },
   "source": [
    "#### Correlation of Samples\n",
    "\n",
    "* Close samples are correlated\n",
    "* Can perform \"thinning\", but usually no need to (numbers outweight correlation).\n",
    "\n",
    "Check out how many samples you need before you remove correlation:"
   ]
  },
  {
   "cell_type": "code",
   "execution_count": 4,
   "metadata": {
    "ExecuteTime": {
     "end_time": "2018-03-12T04:54:10.692976Z",
     "start_time": "2018-03-12T04:54:09.866520Z"
    },
    "slideshow": {
     "slide_type": "fragment"
    }
   },
   "outputs": [
    {
     "data": {
      "image/png": "[encoded data removed]",
      "text/plain": [
       "<Figure size 864x288 with 8 Axes>"
      ]
     },
     "metadata": {},
     "output_type": "display_data"
    }
   ],
   "source": [
    "pm.plots.autocorrplot(chains);"
   ]
  },
  {
   "cell_type": "markdown",
   "metadata": {
    "slideshow": {
     "slide_type": "subslide"
    }
   },
   "source": [
    "#### Number of samples\n",
    "\n",
    "Two popular options exist:\n",
    "    1. Integrated auto-correlation time (``emcee``'s preferred option)\n",
    "        * Use ~$50\\tau$ samples\n",
    "    2. Gelman-Rubin statistic (good when you have multiple chains)\n",
    "        * Ensure $\\hat{R}<1.01$\n"
   ]
  },
  {
   "cell_type": "markdown",
   "metadata": {
    "slideshow": {
     "slide_type": "notes"
    }
   },
   "source": [
    "Samples close to each other will likely be correlated, which could bias things. Some people recommend \"thinning\", i.e. only keeping every $n^{th}$ sample. Other people say there's no point -- the sheer weight of samples will outweigh the correlation. You can thin if the number of samples will be too large in terms of memory."
   ]
  },
  {
   "cell_type": "code",
   "execution_count": 5,
   "metadata": {
    "ExecuteTime": {
     "end_time": "2018-03-12T04:54:15.095965Z",
     "start_time": "2018-03-12T04:54:14.845062Z"
    },
    "slideshow": {
     "slide_type": "fragment"
    }
   },
   "outputs": [
    {
     "data": {
      "text/html": [
       "<div>\n",
       "<style scoped>\n",
       "    .dataframe tbody tr th:only-of-type {\n",
       "        vertical-align: middle;\n",
       "    }\n",
       "\n",
       "    .dataframe tbody tr th {\n",
       "        vertical-align: top;\n",
       "    }\n",
       "\n",
       "    .dataframe thead th {\n",
       "        text-align: right;\n",
       "    }\n",
       "</style>\n",
       "<table border=\"1\" class=\"dataframe\">\n",
       "  <thead>\n",
       "    <tr style=\"text-align: right;\">\n",
       "      <th></th>\n",
       "      <th>mean</th>\n",
       "      <th>sd</th>\n",
       "      <th>mc_error</th>\n",
       "      <th>hpd_2.5</th>\n",
       "      <th>hpd_97.5</th>\n",
       "      <th>n_eff</th>\n",
       "      <th>Rhat</th>\n",
       "    </tr>\n",
       "  </thead>\n",
       "  <tbody>\n",
       "    <tr>\n",
       "      <th>mean</th>\n",
       "      <td>1.711667</td>\n",
       "      <td>0.015686</td>\n",
       "      <td>0.000168</td>\n",
       "      <td>1.681214</td>\n",
       "      <td>1.742864</td>\n",
       "      <td>8221.0</td>\n",
       "      <td>1.000181</td>\n",
       "    </tr>\n",
       "    <tr>\n",
       "      <th>sd</th>\n",
       "      <td>0.192369</td>\n",
       "      <td>0.011328</td>\n",
       "      <td>0.000120</td>\n",
       "      <td>0.171429</td>\n",
       "      <td>0.215154</td>\n",
       "      <td>7712.0</td>\n",
       "      <td>1.000096</td>\n",
       "    </tr>\n",
       "  </tbody>\n",
       "</table>\n",
       "</div>"
      ],
      "text/plain": [
       "          mean        sd  mc_error   hpd_2.5  hpd_97.5   n_eff      Rhat\n",
       "mean  1.711667  0.015686  0.000168  1.681214  1.742864  8221.0  1.000181\n",
       "sd    0.192369  0.011328  0.000120  0.171429  0.215154  7712.0  1.000096"
      ]
     },
     "execution_count": 5,
     "metadata": {},
     "output_type": "execute_result"
    }
   ],
   "source": [
    "pm.summary(chains)"
   ]
  },
  {
   "cell_type": "markdown",
   "metadata": {
    "slideshow": {
     "slide_type": "subslide"
    }
   },
   "source": [
    "### Interpreting an MCMC chain\n",
    "\n",
    "**Key difference to single-point estimators (eg. chi-square minimization) is that the posteriors per parameters are *marginal*.**\n",
    "* Other parameters are *integrated over*\n",
    "* Provides final distribution for that parameter, given complete uncertainty of all other parameters.\n",
    "* Joint-marginalised PDF for two parameters shows covariance.\n"
   ]
  },
  {
   "cell_type": "markdown",
   "metadata": {
    "slideshow": {
     "slide_type": "notes"
    }
   },
   "source": [
    "There are lots of tools out there to interpret the chains from an MCMC. The thing to keep in mind, at an abstract level, is what sets these chains apart from other methods, like chi-square minimization. Looking at the distribution of a single parameter in the chain is equivalent to looking at the posterior *marginalised* (or integrated) over every other parameter. It is the actual final distribution for that parameter you'd expect, given the complete uncertainty of all other parameters, and how they affect it. Likewise, if you integrate over all parameters bar two, you get the joint-marginalised PDF of those parameters, which is helpful for detecting covariance.\n"
   ]
  },
  {
   "cell_type": "markdown",
   "metadata": {
    "slideshow": {
     "slide_type": "subslide"
    }
   },
   "source": [
    "**Some useful summary plots are 1D histograms/KDEs**"
   ]
  },
  {
   "cell_type": "code",
   "execution_count": 6,
   "metadata": {
    "ExecuteTime": {
     "end_time": "2018-03-12T04:54:19.111499Z",
     "start_time": "2018-03-12T04:54:18.779793Z"
    },
    "slideshow": {
     "slide_type": "fragment"
    }
   },
   "outputs": [
    {
     "data": {
      "image/png": "[encoded data removed]",
      "text/plain": [
       "<Figure size 432x288 with 2 Axes>"
      ]
     },
     "metadata": {},
     "output_type": "display_data"
    }
   ],
   "source": [
    "pm.plots.densityplot(chains);"
   ]
  },
  {
   "cell_type": "code",
   "execution_count": 7,
   "metadata": {
    "ExecuteTime": {
     "end_time": "2018-03-12T04:54:21.630338Z",
     "start_time": "2018-03-12T04:54:21.182284Z"
    },
    "slideshow": {
     "slide_type": "subslide"
    }
   },
   "outputs": [
    {
     "data": {
      "image/png": "[encoded data removed]",
      "text/plain": [
       "<Figure size 864x180 with 2 Axes>"
      ]
     },
     "metadata": {},
     "output_type": "display_data"
    }
   ],
   "source": [
    "pm.plot_posterior(chains);"
   ]
  },
  {
   "cell_type": "markdown",
   "metadata": {
    "slideshow": {
     "slide_type": "subslide"
    }
   },
   "source": [
    "One of the most highly useful plots to make from an MCMC run is the so-called \"corner\" plot. Packages like ``corner`` and ``ChainConsumer`` can make these plots for you (eg. chainconsumer):\n",
    "\n",
    "<img height=500 width=500 src=\"chainconsumer.png\">"
   ]
  },
  {
   "cell_type": "markdown",
   "metadata": {
    "slideshow": {
     "slide_type": "slide"
    }
   },
   "source": [
    "## Tips\n",
    "\n",
    "After actually creating the likelihood model, the most energy-consuming part of doing MCMC is making sure it's telling you something useful. Lots of things can go wrong, even if your model is correct, and we've hinted at a few already:\n",
    "\n",
    "* your model could be incorrect\n",
    "* your prior could be poor\n",
    "* how do you know if your model is a good one?\n"
   ]
  },
  {
   "cell_type": "markdown",
   "metadata": {
    "slideshow": {
     "slide_type": "subslide"
    }
   },
   "source": [
    "### Model Correctness\n",
    "\n",
    "* Usually can't say if model is definitely \"correct\"\n",
    "* *Can* say it is definitely *incorrect.*\n",
    "\n",
    "**Usually comes down to choosing wrong kind of distribution, eg.:**\n",
    "\n",
    "* if the variable is bounded above 0 (or some other threshold). Then the Gaussian *must* be wrong. Try a log-normal.\n",
    "* if the variable is discrete (or some scaling of a discrete number). Then the Gaussian *must* be wrong. Try a Poisson, or something similar.\n",
    "* if the variable is skewed, try a distribution that can be skewed (eg. lognormal). "
   ]
  },
  {
   "cell_type": "markdown",
   "metadata": {
    "slideshow": {
     "slide_type": "notes"
    }
   },
   "source": [
    "**Correctness of Models**\n",
    "\n",
    "It is usually impossible to say that your model is definitely \"correct\". However, it is often easy to say whether it is definitely *incorrect*. Often, this can come down to using the wrong kind of distribution for a particular variable. \n",
    "\n",
    "We are so used to using chi-square that we sometimes forget it really only applies to Gaussian variables (it is literally the log of the Gaussian distribution). Lots of realistic variables are pretty close to Gaussian, so even if it is untrue in detail, we might get away with it. But there can be catastrophic failures. \n",
    "\n",
    "Places where this may more obviously turn up are:\n",
    "\n",
    "\n",
    "\n",
    "In general, the model should mimic the coarse behaviours of the data, and should definitely have zero density where the data cannot possibly be. Remember, MCMC looks around parameter space, and so it will very possibly try out values that you don't expect.\n",
    "\n"
   ]
  },
  {
   "cell_type": "markdown",
   "metadata": {
    "slideshow": {
     "slide_type": "subslide"
    }
   },
   "source": [
    "### Priors\n",
    "\n",
    "Two bad things to do with priors:\n",
    "\n",
    "**1. Not specify one at all**\n",
    "\n",
    "* By default, prior is uniform over entire real line.\n",
    "* This is \n",
    "    1. Improper\n",
    "    2. Almost never true\n",
    "    3. Not what you think it is, in high dimensions\n",
    "    4. Covering up information in the model."
   ]
  },
  {
   "cell_type": "markdown",
   "metadata": {
    "slideshow": {
     "slide_type": "fragment"
    }
   },
   "source": [
    "**2. Not testing its impact.**\n",
    "\n",
    "* Priors *are* subjective, which is good.\n",
    "* We'd like the data to dominate the prior.\n",
    "* Should explicitly test for this."
   ]
  },
  {
   "cell_type": "markdown",
   "metadata": {
    "slideshow": {
     "slide_type": "notes"
    }
   },
   "source": [
    "**Priors**\n",
    "\n",
    "There are two really bad things to do with priors:\n",
    "1. Not specify one at all,\n",
    "2. Not test the prior's impact.\n",
    "\n",
    "If a prior is not specified, it is by default a uniform prior over the whole real line. This has a few problems -- firstly, it is improper (integrates to infinity) and may result in some weird behaviour. Secondly, it is almost never true. Almost always you know that a value can't be 1e6 times what you expect. Remember, there is always implicitly a prior, and assuming a uniform prior by default is not necessarily very close to the truth. Thirdly, a uniform prior doesn't do what you think it should in high dimensions. A uniform box, for example, has very little relative volume in the corners. Fourthly, by not explicitly specifying it, you are not conceptually aware that the prior is an essential ingredient of the posterior -- and no-one else is either.\n",
    "\n",
    "On the other hand, specifying a prior is of course subjective. We hope that the data is sufficient to dominate the posterior, regardless of the prior, but this may not be true. It is always useful to choose a few priors -- some wide, some narrow, to see what effect they have on the posterior. A prior-dominated result could indicate a lack of data, or it could just be that that's the correct interpretation. Either way, it's good to be explicit about its effect.\n",
    "\n"
   ]
  },
  {
   "cell_type": "markdown",
   "metadata": {
    "slideshow": {
     "slide_type": "subslide"
    }
   },
   "source": [
    "### Is the model a good one?\n",
    "\n",
    "* Ability to find best parameters does *not* imply a good model was chosen.\n",
    "* Check heuristically by generating data from posterior (not just at best parameters).\n",
    "* Similar to plotting best-fit curve against data.\n",
    "\n",
    "If a finite number of different models are known about/under consideration, they can be more formally compared. *This is not trivial, and you'll have to do more reading yourself.* Basic ideas:\n",
    "\n",
    "* Domain of Bayesian Model Selection.\n",
    "* Bayes' is very natural way to answer this question, with in-built \"Occams Razor\".\n",
    "* Requires the other factor we ignored ($P(D)$), called the \"Bayes Factor\":\n",
    "\n",
    "$$ B = \\frac{P(M_1)}{P(M_2)} \\frac{\\int d\\theta_1 f(D|\\theta_1) P(\\theta_1)}{\\int d\\theta_2 f(D|\\theta_2) P(\\theta_2)}. $$\n",
    "\n",
    "* B>1 supports $M_1$.\n",
    "* Very tricky to calculate, but supported in principle in ``PyMC3``."
   ]
  },
  {
   "cell_type": "markdown",
   "metadata": {
    "slideshow": {
     "slide_type": "notes"
    }
   },
   "source": [
    "**Is my model a good one?**\n",
    "\n",
    "Just because you get the best model parameters, doesn't mean the model itself is good. The obvious way of determining this, at least heuristically, is to generate some data using your best parameters, and see how well it lines up with the data you actually have. For something like a curve fit, this amounts to plotting the best-fit curve against the data. But each problem will have its specific way of doing this.\n",
    "\n",
    "The other question you can ask is: given some selection of models, each of which I can find the best parameters for, which is the best? This is the domain of Bayesian Model Selection. There are various resources out there to help do this. In short, Bayes' is a natural way to answer these questions, via the factor we've been conveniently ignoring: the $P(D) = \\int dA P(D|A)P(A)$. Specifically, how much better model 1 is than model 2 can be summarised by the Bayes Factor:\n",
    "\n",
    "$$ B = \\frac{P(M_1)}{P(M_2)} \\frac{\\int d\\theta_1 f(D|\\theta_1) P(\\theta_1)}{\\int d\\theta_2 f(D|\\theta_2) P(\\theta_2)}. $$\n",
    "\n",
    "The Bayes Factor naturally penalises larger degrees of freedom in the model."
   ]
  },
  {
   "cell_type": "markdown",
   "metadata": {
    "slideshow": {
     "slide_type": "subslide"
    }
   },
   "source": [
    "#### Example: Height Example Model Comparison\n",
    "\n",
    "We need to use a different step method (Sequential Monte Carlo, SMC):"
   ]
  },
  {
   "cell_type": "code",
   "execution_count": 47,
   "metadata": {
    "ExecuteTime": {
     "end_time": "2018-03-09T08:29:09.451735Z",
     "start_time": "2018-03-09T08:22:49.384077Z"
    },
    "scrolled": true,
    "slideshow": {
     "slide_type": "fragment"
    }
   },
   "outputs": [
    {
     "name": "stderr",
     "output_type": "stream",
     "text": [
      "/home/steven/miniconda3/envs/pymc3/lib/python3.5/site-packages/pymc3/step_methods/smc.py:491: UserWarning: Warning: SMC is an experimental step method, and not yet recommended for use in PyMC3!\n",
      "  warnings.warn(EXPERIMENTAL_WARNING)\n",
      "Argument `step` is None. Auto-initialising step object using given/default parameters.\n",
      "/home/steven/miniconda3/envs/pymc3/lib/python3.5/site-packages/pymc3/step_methods/smc.py:119: UserWarning: Warning: SMC is an experimental step method, and not yet recommended for use in PyMC3!\n",
      "  warnings.warn(EXPERIMENTAL_WARNING)\n",
      "Using present model likelihood!\n",
      "Removing previous sampling results ... /home/steven/Documents/TutesAndLectures/stage_0\n",
      "Init new trace!\n",
      "Sample initial stage: ...\n",
      "Beta: 0.000000 Stage: 0\n",
      "Initialising chain traces ...\n",
      "Sampling ...\n",
      "Beta: 0.022719 Stage: 1\n",
      "Initialising chain traces ...\n",
      "Sampling ...\n",
      "Beta: 0.053295 Stage: 2\n",
      "Initialising chain traces ...\n",
      "Sampling ...\n",
      "Beta: 0.100511 Stage: 3\n",
      "Initialising chain traces ...\n",
      "Sampling ...\n",
      "Beta: 0.367959 Stage: 4\n",
      "Initialising chain traces ...\n",
      "Sampling ...\n",
      "Beta > 1.: 1.103181\n",
      "Sample final stage\n",
      "Initialising chain traces ...\n",
      "Sampling ...\n"
     ]
    }
   ],
   "source": [
    "from pymc3.step_methods import smc\n",
    "\n",
    "with model:\n",
    "    smc_trace = smc.sample_smc(n_steps=2000,\n",
    "                               n_chains=100,\n",
    "                              n_jobs=1, homepath='/home/steven/Documents/TutesAndLectures/')"
   ]
  },
  {
   "cell_type": "markdown",
   "metadata": {
    "slideshow": {
     "slide_type": "subslide"
    }
   },
   "source": [
    "Now run a second model, which assumes a Student-T distribution with unknown shape, $\\nu$:"
   ]
  },
  {
   "cell_type": "code",
   "execution_count": 50,
   "metadata": {
    "ExecuteTime": {
     "end_time": "2018-03-09T08:47:04.742286Z",
     "start_time": "2018-03-09T08:37:16.141209Z"
    },
    "scrolled": true,
    "slideshow": {
     "slide_type": "-"
    }
   },
   "outputs": [
    {
     "name": "stderr",
     "output_type": "stream",
     "text": [
      "/home/steven/miniconda3/envs/pymc3/lib/python3.5/site-packages/pymc3/step_methods/smc.py:491: UserWarning: Warning: SMC is an experimental step method, and not yet recommended for use in PyMC3!\n",
      "  warnings.warn(EXPERIMENTAL_WARNING)\n",
      "Argument `step` is None. Auto-initialising step object using given/default parameters.\n",
      "/home/steven/miniconda3/envs/pymc3/lib/python3.5/site-packages/pymc3/step_methods/smc.py:119: UserWarning: Warning: SMC is an experimental step method, and not yet recommended for use in PyMC3!\n",
      "  warnings.warn(EXPERIMENTAL_WARNING)\n",
      "Adding model likelihood to RVs!\n",
      "Init new trace!\n",
      "Sample initial stage: ...\n",
      "Beta: 0.000000 Stage: 0\n",
      "Initialising chain traces ...\n",
      "Sampling ...\n",
      "Beta: 0.021525 Stage: 1\n",
      "Initialising chain traces ...\n",
      "Sampling ...\n",
      "Beta: 0.043847 Stage: 2\n",
      "Initialising chain traces ...\n",
      "Sampling ...\n",
      "Beta: 0.069443 Stage: 3\n",
      "Initialising chain traces ...\n",
      "Sampling ...\n",
      "Beta: 0.138636 Stage: 4\n",
      "Initialising chain traces ...\n",
      "Sampling ...\n",
      "Beta: 0.302558 Stage: 5\n",
      "Initialising chain traces ...\n",
      "Sampling ...\n",
      "Beta: 0.703953 Stage: 6\n",
      "Initialising chain traces ...\n",
      "Sampling ...\n",
      "Beta > 1.: 1.732174\n",
      "Sample final stage\n",
      "Initialising chain traces ...\n",
      "Sampling ...\n"
     ]
    }
   ],
   "source": [
    "with pm.Model() as model2:\n",
    "    mean = pm.Normal(\"mean\", mu = 1.4, sd = 0.5)\n",
    "    sd = pm.Uniform(\"sd\", lower=0.05, upper=0.3)\n",
    "    nu = pm.Uniform(\"nu\", lower=0.05, upper=5)\n",
    "    \n",
    "    heights = pm.StudentT(\"heights\", nu=nu, mu=mean, sd=sd, observed=data)\n",
    "    \n",
    "    smc_trace = smc.sample_smc(n_steps=2000,\n",
    "                               n_chains=100,\n",
    "                               n_jobs=1, homepath='/home/steven/Documents/TutesAndLectures/model2')"
   ]
  },
  {
   "cell_type": "markdown",
   "metadata": {
    "slideshow": {
     "slide_type": "subslide"
    }
   },
   "source": [
    "Compare marginal likelihoods (i.e. get the Bayes Factor):"
   ]
  },
  {
   "cell_type": "code",
   "execution_count": 51,
   "metadata": {
    "ExecuteTime": {
     "end_time": "2018-03-09T09:04:22.989995Z",
     "start_time": "2018-03-09T09:04:22.977482Z"
    },
    "slideshow": {
     "slide_type": "-"
    }
   },
   "outputs": [
    {
     "data": {
      "text/plain": [
       "17.668814320416594"
      ]
     },
     "execution_count": 51,
     "metadata": {},
     "output_type": "execute_result"
    }
   ],
   "source": [
    "model.marginal_likelihood/model2.marginal_likelihood"
   ]
  },
  {
   "cell_type": "markdown",
   "metadata": {},
   "source": [
    "**Note: it's unclear how robust this result is. Take with a grain of salt.**"
   ]
  },
  {
   "cell_type": "markdown",
   "metadata": {
    "slideshow": {
     "slide_type": "slide"
    }
   },
   "source": [
    "## Conclusions\n",
    "\n",
    "#### Some useful resources\n",
    "\n",
    "* [PyMC3 Docs](docs.pymc.io/notebooks/getting_started.html)\n",
    "* [emcee docs](http://dfm.io/emcee/current/user/line/)\n",
    "* [Probabilistic Programming and Bayesian Methods for Hackers](https://github.com/CamDavidsonPilon/Probabilistic-Programming-and-Bayesian-Methods-for-Hackers)\n",
    "* [Stan Docs](https://github.com/stan-dev/stan/releases/download/v2.17.0/stan-reference-2.17.0.pdf)\n"
   ]
  },
  {
   "cell_type": "markdown",
   "metadata": {
    "slideshow": {
     "slide_type": "subslide"
    }
   },
   "source": [
    "#### Some good exercises\n",
    "\n",
    "1. Write your own Metropolis-Hastings algorithm.\n",
    "2. Try something like the height's example in this presentation.\n",
    "3. What is the log-likelihood for a set of data points which follow an arbitrary 1D model: $y = f(x) + \\mathcal{N}(0, \\sigma)$? (i.e. where each point has Gaussian noise?), and what is it equivalent to?\n",
    "4. Write down the likelihood for a similar problem to (3), but where there may be some observational uncertainty on $x$."
   ]
  },
  {
   "cell_type": "code",
   "execution_count": null,
   "metadata": {},
   "outputs": [],
   "source": []
  }
 ],
 "metadata": {
  "celltoolbar": "Slideshow",
  "kernelspec": {
   "display_name": "Python [conda env:pymc3]",
   "language": "python",
   "name": "conda-env-pymc3-py"
  },
  "language_info": {
   "codemirror_mode": {
    "name": "ipython",
    "version": 3
   },
   "file_extension": ".py",
   "mimetype": "text/x-python",
   "name": "python",
   "nbconvert_exporter": "python",
   "pygments_lexer": "ipython3",
   "version": "3.6.4"
  },
  "latex_envs": {
   "LaTeX_envs_menu_present": true,
   "autocomplete": true,
   "bibliofile": "biblio.bib",
   "cite_by": "apalike",
   "current_citInitial": 1,
   "eqLabelWithNumbers": true,
   "eqNumInitial": 1,
   "hotkeys": {
    "equation": "Ctrl-E",
    "itemize": "Ctrl-I"
   },
   "labels_anchors": false,
   "latex_user_defs": false,
   "report_style_numbering": false,
   "user_envs_cfg": false
  },
  "nbpresent": {
   "slides": {
    "07fa55bf-f22d-428c-8994-3fb9db7a4005": {
     "id": "07fa55bf-f22d-428c-8994-3fb9db7a4005",
     "prev": "7683f94e-94d6-44dd-a359-0382bbaf015c",
     "regions": {
      "bfabd1b0-01b0-4cfb-b96a-b5806f3b1a14": {
       "attrs": {
        "height": 0.8,
        "width": 0.8,
        "x": 0.1,
        "y": 0.1
       },
       "content": {
        "cell": "7601dda9-0dbb-4b65-a3fe-d3016996e1f5",
        "part": "whole"
       },
       "id": "bfabd1b0-01b0-4cfb-b96a-b5806f3b1a14"
      }
     }
    },
    "2371afcf-0363-41b9-8396-9e05ef418b6b": {
     "id": "2371afcf-0363-41b9-8396-9e05ef418b6b",
     "prev": null,
     "regions": {
      "55c226a1-c5df-450b-88b2-bf63d4c7aca7": {
       "attrs": {
        "height": 0.8,
        "width": 0.8,
        "x": 0.1,
        "y": 0.1
       },
       "content": {
        "cell": "f2ffbee5-caff-46ce-83ed-a12d214663be",
        "part": "whole"
       },
       "id": "55c226a1-c5df-450b-88b2-bf63d4c7aca7"
      }
     }
    },
    "652f47f3-c68b-47fa-827a-da7f0d3446ff": {
     "id": "652f47f3-c68b-47fa-827a-da7f0d3446ff",
     "prev": null,
     "regions": {
      "f9241289-809f-4911-b39a-6b4cf110d7d0": {
       "attrs": {
        "height": 0.8,
        "width": 0.8,
        "x": 0.1,
        "y": 0.1
       },
       "content": {
        "cell": "f2ffbee5-caff-46ce-83ed-a12d214663be",
        "part": "whole"
       },
       "id": "f9241289-809f-4911-b39a-6b4cf110d7d0"
      }
     }
    },
    "7683f94e-94d6-44dd-a359-0382bbaf015c": {
     "id": "7683f94e-94d6-44dd-a359-0382bbaf015c",
     "prev": "871d251d-fdca-482c-8f25-002b05b75879",
     "regions": {
      "42f095e4-813c-4ed6-af5c-10f9daf1b2b7": {
       "attrs": {
        "height": 0.8,
        "width": 0.8,
        "x": 0.1,
        "y": 0.1
       },
       "content": {
        "cell": "8ab31b00-ce7e-459c-87fe-4b675e01de56",
        "part": "whole"
       },
       "id": "42f095e4-813c-4ed6-af5c-10f9daf1b2b7"
      }
     }
    },
    "7a46384e-5fe4-4e3b-9e65-97fbfa1ba9b6": {
     "id": "7a46384e-5fe4-4e3b-9e65-97fbfa1ba9b6",
     "prev": null,
     "regions": {
      "50bf3ea3-cb92-4782-9777-d46427ba03ac": {
       "attrs": {
        "height": 0.8,
        "width": 0.8,
        "x": 0.1,
        "y": 0.1
       },
       "content": {
        "cell": "f2ffbee5-caff-46ce-83ed-a12d214663be",
        "part": "whole"
       },
       "id": "50bf3ea3-cb92-4782-9777-d46427ba03ac"
      }
     }
    },
    "871d251d-fdca-482c-8f25-002b05b75879": {
     "id": "871d251d-fdca-482c-8f25-002b05b75879",
     "prev": "7a46384e-5fe4-4e3b-9e65-97fbfa1ba9b6",
     "regions": {
      "db8a2102-eae6-4cc7-b674-21ba8f75f8f5": {
       "attrs": {
        "height": 0.8,
        "width": 0.8,
        "x": 0.1,
        "y": 0.1
       },
       "content": {
        "cell": "442c87c8-def6-430c-bdad-ed270a3f46a8",
        "part": "whole"
       },
       "id": "db8a2102-eae6-4cc7-b674-21ba8f75f8f5"
      }
     }
    },
    "8ca775a3-e007-4978-8075-7674a1e2a24b": {
     "id": "8ca775a3-e007-4978-8075-7674a1e2a24b",
     "prev": "2371afcf-0363-41b9-8396-9e05ef418b6b",
     "regions": {
      "743f1c2d-01e9-4b8e-b1d5-0861fa352bf6": {
       "attrs": {
        "height": 0.8,
        "width": 0.8,
        "x": 0.1,
        "y": 0.1
       },
       "content": {
        "cell": "5b062e3c-a10b-43b6-b85d-def938af14aa",
        "part": "whole"
       },
       "id": "743f1c2d-01e9-4b8e-b1d5-0861fa352bf6"
      }
     }
    },
    "94cbb7ce-f133-40b3-a962-fa4c5c5b9588": {
     "id": "94cbb7ce-f133-40b3-a962-fa4c5c5b9588",
     "prev": "652f47f3-c68b-47fa-827a-da7f0d3446ff",
     "regions": {
      "10406993-a6b6-469c-937d-5375533dad4a": {
       "attrs": {
        "height": 0.8,
        "width": 0.8,
        "x": 0.1,
        "y": 0.1
       },
       "content": {
        "cell": "5b062e3c-a10b-43b6-b85d-def938af14aa",
        "part": "whole"
       },
       "id": "10406993-a6b6-469c-937d-5375533dad4a"
      }
     }
    }
   },
   "themes": {}
  },
  "toc": {
   "nav_menu": {},
   "number_sections": true,
   "sideBar": true,
   "skip_h1_title": false,
   "toc_cell": false,
   "toc_position": {},
   "toc_section_display": "block",
   "toc_window_display": false
  },
  "varInspector": {
   "cols": {
    "lenName": 16,
    "lenType": 16,
    "lenVar": 40
   },
   "kernels_config": {
    "python": {
     "delete_cmd_postfix": "",
     "delete_cmd_prefix": "del ",
     "library": "var_list.py",
     "varRefreshCmd": "print(var_dic_list())"
    },
    "r": {
     "delete_cmd_postfix": ") ",
     "delete_cmd_prefix": "rm(",
     "library": "var_list.r",
     "varRefreshCmd": "cat(var_dic_list()) "
    }
   },
   "types_to_exclude": [
    "module",
    "function",
    "builtin_function_or_method",
    "instance",
    "_Feature"
   ],
   "window_display": false
  }
 },
 "nbformat": 4,
 "nbformat_minor": 2
}
